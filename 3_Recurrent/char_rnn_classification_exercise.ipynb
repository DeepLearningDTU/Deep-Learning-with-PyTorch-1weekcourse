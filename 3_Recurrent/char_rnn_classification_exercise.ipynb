{
  "cells": [
    {
      "cell_type": "code",
      "execution_count": 1,
      "metadata": {
        "id": "CkuCJ1IcHi-D"
      },
      "outputs": [],
      "source": [
        "%matplotlib inline"
      ]
    },
    {
      "cell_type": "markdown",
      "metadata": {
        "id": "IxE2_XK7Hi-F"
      },
      "source": [
        "\n",
        "This exercise heavily borrows heavily from the pytorch tutorials. Kindly refer to the below tutorial on pytorch pages if you'd like to know more.\n",
        "\n",
        "\n",
        "NLP From Scratch: Classifying Names with a Character-Level RNN\n",
        "**************************************************************\n",
        "**Author**: `Sean Robertson <https://github.com/spro/practical-pytorch>`_\n",
        "\n",
        "We will be building and training a basic character-level RNN to classify\n",
        "words. This tutorial, along with the following two, show how to do\n",
        "preprocess data for NLP modeling \"from scratch\", in particular not using\n",
        "many of the convenience functions of `torchtext`, so you can see how\n",
        "preprocessing for NLP modeling works at a low level.\n",
        "\n",
        "A character-level RNN reads words as a series of characters -\n",
        "outputting a prediction and \"hidden state\" at each step, feeding its\n",
        "previous hidden state into each next step. We take the final prediction\n",
        "to be the output, i.e. which class the word belongs to.\n",
        "\n",
        "Specifically, we'll train on a few thousand surnames from 18 languages\n",
        "of origin, and predict which language a name is from based on the\n",
        "spelling:\n",
        "\n",
        "::\n",
        "\n",
        "    $ python predict.py Hinton\n",
        "    (-0.47) Scottish\n",
        "    (-1.52) English\n",
        "    (-3.57) Irish\n",
        "\n",
        "    $ python predict.py Schmidhuber\n",
        "    (-0.19) German\n",
        "    (-2.48) Czech\n",
        "    (-2.68) Dutch\n",
        "\n",
        "\n",
        "**Recommended Reading:**\n",
        "\n",
        "I assume you have at least installed PyTorch, know Python, and\n",
        "understand Tensors:\n",
        "\n",
        "-  https://pytorch.org/ For installation instructions\n",
        "-  :doc:`/beginner/deep_learning_60min_blitz` to get started with PyTorch in general\n",
        "-  :doc:`/beginner/pytorch_with_examples` for a wide and deep overview\n",
        "-  :doc:`/beginner/former_torchies_tutorial` if you are former Lua Torch user\n",
        "\n",
        "It would also be useful to know about RNNs and how they work:\n",
        "\n",
        "-  `The Unreasonable Effectiveness of Recurrent Neural\n",
        "   Networks <https://karpathy.github.io/2015/05/21/rnn-effectiveness/>`__\n",
        "   shows a bunch of real life examples\n",
        "-  `Understanding LSTM\n",
        "   Networks <https://colah.github.io/posts/2015-08-Understanding-LSTMs/>`__\n",
        "   is about LSTMs specifically but also informative about RNNs in\n",
        "   general\n",
        "\n",
        "Preparing the Data\n",
        "==================\n",
        "\n",
        ".. Note::\n",
        "   Download the data from\n",
        "   `here <https://download.pytorch.org/tutorial/data.zip>`_\n",
        "   and extract it to the current directory.\n",
        "\n",
        "Included in the ``data/names`` directory are 18 text files named as\n",
        "\"[Language].txt\". Each file contains a bunch of names, one name per\n",
        "line, mostly romanized (but we still need to convert from Unicode to\n",
        "ASCII).\n",
        "\n",
        "We'll end up with a dictionary of lists of names per language,\n",
        "``{language: [names ...]}``. The generic variables \"category\" and \"line\"\n",
        "(for language and name in our case) are used for later extensibility.\n",
        "\n"
      ]
    },
    {
      "cell_type": "code",
      "source": [
        "#downloading data-set from pytorch servers\n",
        "!wget https://download.pytorch.org/tutorial/data.zip\n",
        "#unzipping the files\n",
        "!unzip data.zip"
      ],
      "metadata": {
        "id": "-h3APsOxH_NQ",
        "outputId": "c142076e-df04-4235-c54d-5e94c5f820dd",
        "colab": {
          "base_uri": "https://localhost:8080/"
        }
      },
      "execution_count": 2,
      "outputs": [
        {
          "output_type": "stream",
          "name": "stdout",
          "text": [
            "--2021-12-15 13:15:48--  https://download.pytorch.org/tutorial/data.zip\n",
            "Resolving download.pytorch.org (download.pytorch.org)... 13.226.52.90, 13.226.52.36, 13.226.52.128, ...\n",
            "Connecting to download.pytorch.org (download.pytorch.org)|13.226.52.90|:443... connected.\n",
            "HTTP request sent, awaiting response... 200 OK\n",
            "Length: 2882130 (2.7M) [application/zip]\n",
            "Saving to: ‘data.zip’\n",
            "\n",
            "data.zip            100%[===================>]   2.75M  --.-KB/s    in 0.1s    \n",
            "\n",
            "2021-12-15 13:15:48 (21.8 MB/s) - ‘data.zip’ saved [2882130/2882130]\n",
            "\n",
            "Archive:  data.zip\n",
            "   creating: data/\n",
            "  inflating: data/eng-fra.txt        \n",
            "   creating: data/names/\n",
            "  inflating: data/names/Arabic.txt   \n",
            "  inflating: data/names/Chinese.txt  \n",
            "  inflating: data/names/Czech.txt    \n",
            "  inflating: data/names/Dutch.txt    \n",
            "  inflating: data/names/English.txt  \n",
            "  inflating: data/names/French.txt   \n",
            "  inflating: data/names/German.txt   \n",
            "  inflating: data/names/Greek.txt    \n",
            "  inflating: data/names/Irish.txt    \n",
            "  inflating: data/names/Italian.txt  \n",
            "  inflating: data/names/Japanese.txt  \n",
            "  inflating: data/names/Korean.txt   \n",
            "  inflating: data/names/Polish.txt   \n",
            "  inflating: data/names/Portuguese.txt  \n",
            "  inflating: data/names/Russian.txt  \n",
            "  inflating: data/names/Scottish.txt  \n",
            "  inflating: data/names/Spanish.txt  \n",
            "  inflating: data/names/Vietnamese.txt  \n"
          ]
        }
      ]
    },
    {
      "cell_type": "code",
      "execution_count": 3,
      "metadata": {
        "id": "jPqFH4zxHi-H",
        "outputId": "76829618-acb8-4af8-86e1-8d1c20becfc2",
        "colab": {
          "base_uri": "https://localhost:8080/"
        }
      },
      "outputs": [
        {
          "output_type": "stream",
          "name": "stdout",
          "text": [
            "['data/names/Italian.txt', 'data/names/Scottish.txt', 'data/names/Arabic.txt', 'data/names/Vietnamese.txt', 'data/names/Russian.txt', 'data/names/German.txt', 'data/names/Dutch.txt', 'data/names/Chinese.txt', 'data/names/Irish.txt', 'data/names/Portuguese.txt', 'data/names/Japanese.txt', 'data/names/Czech.txt', 'data/names/Korean.txt', 'data/names/French.txt', 'data/names/Polish.txt', 'data/names/English.txt', 'data/names/Greek.txt', 'data/names/Spanish.txt']\n",
            "Slusarski\n"
          ]
        }
      ],
      "source": [
        "from __future__ import unicode_literals, print_function, division\n",
        "from io import open\n",
        "import glob\n",
        "import os\n",
        "\n",
        "\n",
        "\n",
        "def findFiles(path): return glob.glob(path)\n",
        "\n",
        "print(findFiles('data/names/*.txt'))\n",
        "\n",
        "import unicodedata\n",
        "import string\n",
        "\n",
        "all_letters = string.ascii_letters + \" .,;'\"\n",
        "n_letters = len(all_letters)\n",
        "\n",
        "# Turn a Unicode string to plain ASCII, thanks to https://stackoverflow.com/a/518232/2809427\n",
        "def unicodeToAscii(s):\n",
        "    return ''.join(\n",
        "        c for c in unicodedata.normalize('NFD', s)\n",
        "        if unicodedata.category(c) != 'Mn'\n",
        "        and c in all_letters\n",
        "    )\n",
        "\n",
        "print(unicodeToAscii('Ślusàrski'))\n",
        "\n",
        "# Build the category_lines dictionary, a list of names per language\n",
        "category_lines = {}\n",
        "all_categories = []\n",
        "\n",
        "# Read a file and split into lines\n",
        "def readLines(filename):\n",
        "    lines = open(filename, encoding='utf-8').read().strip().split('\\n')\n",
        "    return [unicodeToAscii(line) for line in lines]\n",
        "\n",
        "for filename in findFiles('data/names/*.txt'):\n",
        "    category = os.path.splitext(os.path.basename(filename))[0]\n",
        "    all_categories.append(category)\n",
        "    lines = readLines(filename)\n",
        "    category_lines[category] = lines\n",
        "\n",
        "n_categories = len(all_categories)"
      ]
    },
    {
      "cell_type": "markdown",
      "metadata": {
        "id": "S-JeV4xhHi-I"
      },
      "source": [
        "Now we have ``category_lines``, a dictionary mapping each category\n",
        "(language) to a list of lines (names). We also kept track of\n",
        "``all_categories`` (just a list of languages) and ``n_categories`` for\n",
        "later reference.\n",
        "\n",
        "\n"
      ]
    },
    {
      "cell_type": "code",
      "execution_count": 4,
      "metadata": {
        "id": "Y2EzOmPUHi-I",
        "outputId": "fd3d9d51-7ab4-43af-c0bc-f8b68ecf72b5",
        "colab": {
          "base_uri": "https://localhost:8080/"
        }
      },
      "outputs": [
        {
          "output_type": "stream",
          "name": "stdout",
          "text": [
            "['Abandonato', 'Abatangelo', 'Abatantuono', 'Abate', 'Abategiovanni']\n"
          ]
        }
      ],
      "source": [
        "print(category_lines['Italian'][:5])"
      ]
    },
    {
      "cell_type": "markdown",
      "metadata": {
        "id": "bsLpeB50Hi-I"
      },
      "source": [
        "Turning Names into Tensors\n",
        "--------------------------\n",
        "\n",
        "Now that we have all the names organized, we need to turn them into\n",
        "Tensors to make any use of them.\n",
        "\n",
        "To represent a single letter, we use a \"one-hot vector\" of size\n",
        "``<1 x n_letters>``. A one-hot vector is filled with 0s except for a 1\n",
        "at index of the current letter, e.g. ``\"b\" = <0 1 0 0 0 ...>``.\n",
        "\n",
        "To make a word we join a bunch of those into a 2D matrix\n",
        "``<line_length x 1 x n_letters>``.\n",
        "\n",
        "That extra 1 dimension is because PyTorch assumes everything is in\n",
        "batches - we're just using a batch size of 1 here.\n",
        "\n",
        "\n"
      ]
    },
    {
      "cell_type": "code",
      "execution_count": 5,
      "metadata": {
        "id": "_vn6Z_FmHi-J",
        "outputId": "840d313e-30ab-450d-a057-5adb70ec1c1b",
        "colab": {
          "base_uri": "https://localhost:8080/"
        }
      },
      "outputs": [
        {
          "output_type": "stream",
          "name": "stdout",
          "text": [
            "tensor([[0., 0., 0., 0., 0., 0., 0., 0., 0., 0., 0., 0., 0., 0., 0., 0., 0., 0.,\n",
            "         0., 0., 0., 0., 0., 0., 0., 0., 0., 0., 0., 0., 0., 0., 0., 0., 0., 1.,\n",
            "         0., 0., 0., 0., 0., 0., 0., 0., 0., 0., 0., 0., 0., 0., 0., 0., 0., 0.,\n",
            "         0., 0., 0.]])\n",
            "torch.Size([5, 1, 57])\n"
          ]
        }
      ],
      "source": [
        "import torch\n",
        "\n",
        "# Find letter index from all_letters, e.g. \"a\" = 0\n",
        "def letterToIndex(letter):\n",
        "    return all_letters.find(letter)\n",
        "\n",
        "# Just for demonstration, turn a letter into a <1 x n_letters> Tensor\n",
        "def letterToTensor(letter):\n",
        "    tensor = torch.zeros(1, n_letters)\n",
        "    tensor[0][letterToIndex(letter)] = 1\n",
        "    return tensor\n",
        "\n",
        "# Turn a line into a <line_length x 1 x n_letters>,\n",
        "# or an array of one-hot letter vectors\n",
        "def lineToTensor(line):\n",
        "    tensor = torch.zeros(len(line), 1, n_letters)\n",
        "    for li, letter in enumerate(line):\n",
        "        tensor[li][0][letterToIndex(letter)] = 1\n",
        "    return tensor\n",
        "\n",
        "print(letterToTensor('J'))\n",
        "\n",
        "print(lineToTensor('Jones').size())"
      ]
    },
    {
      "cell_type": "markdown",
      "metadata": {
        "id": "Ygu1mdmgHi-J"
      },
      "source": [
        "Creating the Network\n",
        "====================\n",
        "\n",
        "Before autograd, creating a recurrent neural network in Torch involved\n",
        "cloning the parameters of a layer over several timesteps. The layers\n",
        "held hidden state and gradients which are now entirely handled by the\n",
        "graph itself. This means you can implement a RNN in a very \"pure\" way,\n",
        "as regular feed-forward layers.\n",
        "\n",
        "This RNN module (mostly copied from `the PyTorch for Torch users\n",
        "tutorial <https://pytorch.org/tutorials/beginner/former_torchies/\n",
        "nn_tutorial.html#example-2-recurrent-net>`__)\n",
        "is just 2 linear layers which operate on an input and hidden state, with\n",
        "a LogSoftmax layer after the output.\n",
        "\n",
        "![image.png](data:image/png;base64,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)\n",
        "\n"
      ]
    },
    {
      "cell_type": "code",
      "execution_count": 6,
      "metadata": {
        "id": "eg_2OELrHi-K"
      },
      "outputs": [],
      "source": [
        "import torch.nn as nn\n",
        "\n",
        "class RNN(nn.Module):\n",
        "    def __init__(self, input_size, hidden_size, output_size):\n",
        "        super(RNN, self).__init__()\n",
        "\n",
        "        self.hidden_size = hidden_size\n",
        "        self.activation = nn.ReLU() # change to tanh\n",
        "        self.i2h = nn.Linear(input_size + hidden_size, hidden_size)\n",
        "        self.i2o = nn.Linear(input_size + hidden_size, output_size)\n",
        "        self.softmax = nn.LogSoftmax(dim=1)\n",
        "\n",
        "    def forward(self, input, hidden):\n",
        "        combined = torch.cat((input, hidden), 1)\n",
        "        hidden = self.activation(self.i2h(combined))\n",
        "        output = self.i2o(combined)\n",
        "        output = self.softmax(output)\n",
        "        return output, hidden\n",
        "\n",
        "    def initHidden(self):\n",
        "        return torch.zeros(1, self.hidden_size)\n",
        "\n",
        "n_hidden = 128\n",
        "rnn = RNN(n_letters, n_hidden, n_categories)\n",
        "\n",
        "# creating the same rnn using pytorch rnn module \n",
        "class SingleCellRNN(nn.Module):\n",
        "  def __init__(self, input_size, hidden_size, output_size):\n",
        "    super(SingleCellRNN, self).__init__()\n",
        "\n",
        "    self.hidden_size = hidden_size\n",
        "    self.single_cell_rnn = nn.RNNCell(input_size, self.hidden_size, nonlinearity='relu') \n",
        "    self.h2o = nn.Linear(hidden_size, output_size)\n",
        "    self.softmax = nn.LogSoftmax(dim=1)\n",
        "\n",
        "  def forward(self, input, hidden):\n",
        "      hidden = self.single_cell_rnn(input, hidden)\n",
        "      output = self.h2o(hidden)\n",
        "      output = self.softmax(output)\n",
        "      return output, hidden\n",
        "\n",
        "  def initHidden(self):\n",
        "      return torch.zeros(1, self.hidden_size)\n",
        "\n",
        "single_rnn = SingleCellRNN(n_letters, n_hidden, n_categories)"
      ]
    },
    {
      "cell_type": "markdown",
      "metadata": {
        "id": "0KKfzhXDHi-K"
      },
      "source": [
        "To run a step of this network we need to pass an input (in our case, the\n",
        "Tensor for the current letter) and a previous hidden state (which we\n",
        "initialize as zeros at first). We'll get back the output (probability of\n",
        "each language) and a next hidden state (which we keep for the next\n",
        "step).\n",
        "\n",
        "\n"
      ]
    },
    {
      "cell_type": "code",
      "execution_count": 7,
      "metadata": {
        "id": "EHCFr4tMHi-L"
      },
      "outputs": [],
      "source": [
        "input = letterToTensor('A')\n",
        "hidden = torch.zeros(1, n_hidden)\n",
        "\n",
        "output, next_hidden = rnn(input, hidden)\n",
        "next_hidden_state = single_rnn(input, hidden)"
      ]
    },
    {
      "cell_type": "markdown",
      "metadata": {
        "id": "2KR8wTKHHi-L"
      },
      "source": [
        "For the sake of efficiency we don't want to be creating a new Tensor for\n",
        "every step, so we will use ``lineToTensor`` instead of\n",
        "``letterToTensor`` and use slices. This could be further optimized by\n",
        "pre-computing batches of Tensors.\n",
        "\n",
        "\n"
      ]
    },
    {
      "cell_type": "code",
      "execution_count": 8,
      "metadata": {
        "id": "XmdchRpEHi-L",
        "outputId": "54e6c233-6049-46cd-e108-63b2969bc8b5",
        "colab": {
          "base_uri": "https://localhost:8080/"
        }
      },
      "outputs": [
        {
          "output_type": "stream",
          "name": "stdout",
          "text": [
            "tensor([[-2.9011, -2.9642, -2.9078, -2.9195, -2.8316, -2.7882, -2.8724, -2.9326,\n",
            "         -2.8709, -2.8889, -2.9239, -2.9684, -2.8913, -2.8899, -2.9607, -2.8895,\n",
            "         -2.8383, -2.8099]], grad_fn=<LogSoftmaxBackward0>) tensor([[-2.9596, -2.9194, -2.8961, -2.9490, -2.8104, -2.8831, -2.9251, -2.8584,\n",
            "         -2.8878, -2.9840, -2.8653, -2.8354, -2.9191, -2.8827, -2.8296, -2.8540,\n",
            "         -2.8839, -2.9020]], grad_fn=<LogSoftmaxBackward0>)\n"
          ]
        }
      ],
      "source": [
        "input = lineToTensor('Albert')\n",
        "hidden = torch.zeros(1, n_hidden)\n",
        "\n",
        "output, next_hidden = rnn(input[0], hidden)\n",
        "output_single_rnn_cell, next_hidden_state = single_rnn(input[0], hidden)\n",
        "print(output, output_single_rnn_cell)"
      ]
    },
    {
      "cell_type": "markdown",
      "metadata": {
        "id": "3FqGN18FHi-L"
      },
      "source": [
        "As you can see the output is a ``<1 x n_categories>`` Tensor, where\n",
        "every item is the likelihood of that category (higher is more likely).\n",
        "\n",
        "\n"
      ]
    },
    {
      "cell_type": "markdown",
      "metadata": {
        "id": "hVX6-doJHi-L"
      },
      "source": [
        "Training\n",
        "========\n",
        "Preparing for Training\n",
        "----------------------\n",
        "\n",
        "Before going into training we should make a few helper functions. The\n",
        "first is to interpret the output of the network, which we know to be a\n",
        "likelihood of each category. We can use ``Tensor.topk`` to get the index\n",
        "of the greatest value:\n",
        "\n",
        "\n"
      ]
    },
    {
      "cell_type": "code",
      "execution_count": 9,
      "metadata": {
        "id": "eHUlR7RbHi-M",
        "outputId": "0cb56114-745b-4cec-d77f-0e4fee96ccb9",
        "colab": {
          "base_uri": "https://localhost:8080/"
        }
      },
      "outputs": [
        {
          "output_type": "stream",
          "name": "stdout",
          "text": [
            "('German', 5)\n"
          ]
        }
      ],
      "source": [
        "def categoryFromOutput(output):\n",
        "    top_n, top_i = output.topk(1)\n",
        "    category_i = top_i[0].item()\n",
        "    return all_categories[category_i], category_i\n",
        "\n",
        "print(categoryFromOutput(output))"
      ]
    },
    {
      "cell_type": "markdown",
      "metadata": {
        "id": "Qxdle_AoHi-M"
      },
      "source": [
        "We will also want a quick way to get a training example (a name and its\n",
        "language):\n",
        "\n",
        "\n"
      ]
    },
    {
      "cell_type": "code",
      "execution_count": 10,
      "metadata": {
        "id": "k3lB1fOqHi-M",
        "outputId": "fb578a86-2999-429c-921c-c2244527fe81",
        "colab": {
          "base_uri": "https://localhost:8080/"
        }
      },
      "outputs": [
        {
          "output_type": "stream",
          "name": "stdout",
          "text": [
            "category = Chinese / line = Lam\n",
            "category = Vietnamese / line = Giang\n",
            "category = English / line = Neill\n",
            "category = Vietnamese / line = Mach\n",
            "category = Spanish / line = Sastre\n",
            "category = Greek / line = Mentis\n",
            "category = Korean / line = Sook\n",
            "category = Greek / line = Papadopulos\n",
            "category = Irish / line = O'Dowd\n",
            "category = Irish / line = O'Halloran\n"
          ]
        }
      ],
      "source": [
        "import random\n",
        "\n",
        "def randomChoice(l):\n",
        "    return l[random.randint(0, len(l) - 1)]\n",
        "\n",
        "def randomTrainingExample():\n",
        "    category = randomChoice(all_categories)\n",
        "    line = randomChoice(category_lines[category])\n",
        "    category_tensor = torch.tensor([all_categories.index(category)], dtype=torch.long)\n",
        "    line_tensor = lineToTensor(line)\n",
        "    return category, line, category_tensor, line_tensor\n",
        "\n",
        "for i in range(10):\n",
        "    category, line, category_tensor, line_tensor = randomTrainingExample()\n",
        "    print('category =', category, '/ line =', line)"
      ]
    },
    {
      "cell_type": "markdown",
      "metadata": {
        "id": "ucGj3hMcHi-M"
      },
      "source": [
        "Training the Network\n",
        "--------------------\n",
        "\n",
        "Now all it takes to train this network is show it a bunch of examples,\n",
        "have it make guesses, and tell it if it's wrong.\n",
        "\n",
        "For the loss function ``nn.NLLLoss`` is appropriate, since the last\n",
        "layer of the RNN is ``nn.LogSoftmax``.\n",
        "\n",
        "\n"
      ]
    },
    {
      "cell_type": "code",
      "execution_count": 11,
      "metadata": {
        "id": "wr2i2K86Hi-M"
      },
      "outputs": [],
      "source": [
        "criterion = nn.NLLLoss()"
      ]
    },
    {
      "cell_type": "markdown",
      "metadata": {
        "id": "r3vUx3V0Hi-N"
      },
      "source": [
        "Each loop of training will:\n",
        "\n",
        "-  Create input and target tensors\n",
        "-  Create a zeroed initial hidden state\n",
        "-  Read each letter in and\n",
        "\n",
        "   -  Keep hidden state for next letter\n",
        "\n",
        "-  Compare final output to target\n",
        "-  Back-propagate\n",
        "-  Return the output and loss\n",
        "\n",
        "\n"
      ]
    },
    {
      "cell_type": "code",
      "execution_count": 15,
      "metadata": {
        "id": "M3Mkl7QQHi-N"
      },
      "outputs": [],
      "source": [
        "import torch.optim as optim\n",
        "learning_rate = 0.001\n",
        "#change params when switching networks\n",
        "#optimiser = optim.Adam(params=single_rnn.parameters(), lr=0.001)\n",
        "# If you set learning rate too high, it might explode. If too low, it might not learn\n",
        "def train(category_tensor, line_tensor, network=single_rnn):\n",
        "    \n",
        "    hidden = network.initHidden()\n",
        "\n",
        "    network.zero_grad()\n",
        "\n",
        "    for i in range(line_tensor.size()[0]):\n",
        "        output, hidden = network(line_tensor[i], hidden)\n",
        "\n",
        "    loss = criterion(output, category_tensor)\n",
        "    loss.backward()\n",
        "    #optimiser.step()\n",
        "    #Add parameters gradients to their values, multiplied by learning rate\n",
        "    for p in network.parameters():\n",
        "        p.data.add_(p.grad.data, alpha=-learning_rate)\n",
        "\n",
        "    return output, loss.item()"
      ]
    },
    {
      "cell_type": "markdown",
      "metadata": {
        "id": "ZDuH1p_qHi-N"
      },
      "source": [
        "Now we just have to run that with a bunch of examples. Since the\n",
        "``train`` function returns both the output and loss we can print its\n",
        "guesses and also keep track of loss for plotting. Since there are 1000s\n",
        "of examples we print only every ``print_every`` examples, and take an\n",
        "average of the loss.\n",
        "\n",
        "\n"
      ]
    },
    {
      "cell_type": "code",
      "execution_count": 16,
      "metadata": {
        "id": "oX7s4uHFHi-N",
        "outputId": "0286d0d5-a7b9-496c-ed61-49db0ab15e76",
        "colab": {
          "base_uri": "https://localhost:8080/"
        }
      },
      "outputs": [
        {
          "output_type": "stream",
          "name": "stdout",
          "text": [
            "5000 5% (0m 6s) 2.8971 Lomax / Czech ✗ (English)\n",
            "10000 10% (0m 13s) 2.8836 Maille / French ✗ (Irish)\n",
            "15000 15% (0m 20s) 2.8078 Snowdon / Scottish ✗ (English)\n",
            "20000 20% (0m 26s) 2.8676 Ibu / Chinese ✗ (Japanese)\n",
            "25000 25% (0m 33s) 2.7174 Nepi / Japanese ✗ (Italian)\n",
            "30000 30% (0m 40s) 2.5042 Sun / Chinese ✗ (Korean)\n",
            "35000 35% (0m 46s) 1.7488 Phocas / Greek ✓\n",
            "40000 40% (0m 53s) 1.9100 Coelho / Portuguese ✓\n",
            "45000 45% (1m 0s) 2.1544 Crespo / Spanish ✗ (Portuguese)\n",
            "50000 50% (1m 6s) 2.3058 Jamieson / Russian ✗ (Scottish)\n",
            "55000 55% (1m 13s) 1.3468 Komiya / Japanese ✓\n",
            "60000 60% (1m 20s) 1.9223 Kools / Dutch ✓\n",
            "65000 65% (1m 26s) 0.3833 Yanagawa / Japanese ✓\n",
            "70000 70% (1m 33s) 1.0361 Ran / Chinese ✓\n",
            "75000 75% (1m 40s) 1.7838 Langer / German ✓\n",
            "80000 80% (1m 46s) 0.9782 Aiello / Italian ✓\n",
            "85000 85% (1m 53s) 0.9828 Costanzo / Italian ✓\n",
            "90000 90% (2m 0s) 1.8035 Reid / Arabic ✗ (Scottish)\n",
            "95000 95% (2m 6s) 0.2094 Yasukawa / Japanese ✓\n",
            "100000 100% (2m 13s) 1.4761 Schorel / Dutch ✓\n"
          ]
        }
      ],
      "source": [
        "import time\n",
        "import math\n",
        "\n",
        "n_iters = 100000\n",
        "print_every = 5000\n",
        "plot_every = 1000\n",
        "\n",
        "\n",
        "\n",
        "# Keep track of losses for plotting\n",
        "current_loss = 0\n",
        "all_losses = []\n",
        "\n",
        "def timeSince(since):\n",
        "    now = time.time()\n",
        "    s = now - since\n",
        "    m = math.floor(s / 60)\n",
        "    s -= m * 60\n",
        "    return '%dm %ds' % (m, s)\n",
        "\n",
        "start = time.time()\n",
        "\n",
        "for iter in range(1, n_iters + 1):\n",
        "    category, line, category_tensor, line_tensor = randomTrainingExample()\n",
        "    output, loss = train(category_tensor, line_tensor)\n",
        "    current_loss += loss\n",
        "\n",
        "    # Print iter number, loss, name and guess\n",
        "    if iter % print_every == 0:\n",
        "        guess, guess_i = categoryFromOutput(output)\n",
        "        correct = '✓' if guess == category else '✗ (%s)' % category\n",
        "        print('%d %d%% (%s) %.4f %s / %s %s' % (iter, iter / n_iters * 100, timeSince(start), loss, line, guess, correct))\n",
        "\n",
        "    # Add current loss avg to list of losses\n",
        "    if iter % plot_every == 0:\n",
        "        all_losses.append(current_loss / plot_every)\n",
        "        current_loss = 0"
      ]
    },
    {
      "cell_type": "markdown",
      "metadata": {
        "id": "wjMAx021Hi-N"
      },
      "source": [
        "Plotting the Results\n",
        "--------------------\n",
        "\n",
        "Plotting the historical loss from ``all_losses`` shows the network\n",
        "learning:\n",
        "\n",
        "\n"
      ]
    },
    {
      "cell_type": "code",
      "execution_count": 17,
      "metadata": {
        "id": "KQPc5VH3Hi-N",
        "outputId": "160d70dd-2e06-44e2-d22e-87b9f074f516",
        "colab": {
          "base_uri": "https://localhost:8080/",
          "height": 282
        }
      },
      "outputs": [
        {
          "output_type": "stream",
          "name": "stdout",
          "text": [
            "last loss of the training: 1.6175234647818724\n"
          ]
        },
        {
          "output_type": "display_data",
          "data": {
            "image/png": "[encoded data removed]",
            "text/plain": [
              "<Figure size 432x288 with 1 Axes>"
            ]
          },
          "metadata": {
            "needs_background": "light"
          }
        }
      ],
      "source": [
        "import matplotlib.pyplot as plt\n",
        "import matplotlib.ticker as ticker\n",
        "\n",
        "plt.figure()\n",
        "plt.plot(all_losses)\n",
        "print(f'last loss of the training: {all_losses[-1]}')"
      ]
    },
    {
      "cell_type": "markdown",
      "metadata": {
        "id": "bRaaVZLzHi-N"
      },
      "source": [
        "Evaluating the Results\n",
        "======================\n",
        "\n",
        "To see how well the network performs on different categories, we will\n",
        "create a confusion matrix, indicating for every actual language (rows)\n",
        "which language the network guesses (columns). To calculate the confusion\n",
        "matrix a bunch of samples are run through the network with\n",
        "``evaluate()``, which is the same as ``train()`` minus the backprop.\n",
        "\n",
        "\n"
      ]
    },
    {
      "cell_type": "code",
      "execution_count": 19,
      "metadata": {
        "id": "ikpxXR2iHi-N",
        "outputId": "b2ac538b-74a5-413b-fa0f-6d62e55060e1",
        "colab": {
          "base_uri": "https://localhost:8080/",
          "height": 320
        }
      },
      "outputs": [
        {
          "output_type": "display_data",
          "data": {
            "image/png": "[encoded data removed]",
            "text/plain": [
              "<Figure size 432x288 with 2 Axes>"
            ]
          },
          "metadata": {
            "needs_background": "light"
          }
        }
      ],
      "source": [
        "# Keep track of correct guesses in a confusion matrix\n",
        "confusion = torch.zeros(n_categories, n_categories)\n",
        "n_confusion = 10000\n",
        "\n",
        "# Just return an output given a line\n",
        "def evaluate(line_tensor, network=single_rnn):\n",
        "    hidden = network.initHidden()\n",
        "\n",
        "    for i in range(line_tensor.size()[0]):\n",
        "        output, hidden = network(line_tensor[i], hidden)\n",
        "\n",
        "    return output\n",
        "\n",
        "# Go through a bunch of examples and record which are correctly guessed\n",
        "for i in range(n_confusion):\n",
        "    category, line, category_tensor, line_tensor = randomTrainingExample()\n",
        "    output = evaluate(line_tensor)\n",
        "    guess, guess_i = categoryFromOutput(output)\n",
        "    category_i = all_categories.index(category)\n",
        "    confusion[category_i][guess_i] += 1\n",
        "\n",
        "# Normalize by dividing every row by its sum\n",
        "for i in range(n_categories):\n",
        "    confusion[i] = confusion[i] / confusion[i].sum()\n",
        "\n",
        "# Set up plot\n",
        "fig = plt.figure()\n",
        "ax = fig.add_subplot(111)\n",
        "cax = ax.matshow(confusion.numpy())\n",
        "fig.colorbar(cax)\n",
        "\n",
        "# Set up axes\n",
        "ax.set_xticklabels([''] + all_categories, rotation=90)\n",
        "ax.set_yticklabels([''] + all_categories)\n",
        "\n",
        "# Force label at every tick\n",
        "ax.xaxis.set_major_locator(ticker.MultipleLocator(1))\n",
        "ax.yaxis.set_major_locator(ticker.MultipleLocator(1))\n",
        "\n",
        "# sphinx_gallery_thumbnail_number = 2\n",
        "plt.show()"
      ]
    },
    {
      "cell_type": "markdown",
      "metadata": {
        "id": "DqHE7tNlHi-O"
      },
      "source": [
        "You can pick out bright spots off the main axis that show which\n",
        "languages it guesses incorrectly, e.g. Chinese for Korean, and Spanish\n",
        "for Italian. It seems to do very well with Greek, and very poorly with\n",
        "English (perhaps because of overlap with other languages).\n",
        "\n",
        "\n"
      ]
    },
    {
      "cell_type": "markdown",
      "metadata": {
        "id": "WJWsKrZzHi-O"
      },
      "source": [
        "Running on User Input\n",
        "---------------------\n",
        "\n",
        "\n"
      ]
    },
    {
      "cell_type": "code",
      "execution_count": null,
      "metadata": {
        "id": "5dtMhR3SHi-O",
        "outputId": "962abe68-11fa-4428-d0b1-a4a6bfcb6931",
        "colab": {
          "base_uri": "https://localhost:8080/"
        }
      },
      "outputs": [
        {
          "output_type": "stream",
          "name": "stdout",
          "text": [
            "\n",
            "> Dovesky\n",
            "(-0.27) Russian\n",
            "(-1.94) Czech\n",
            "(-2.93) Polish\n",
            "\n",
            "> Jackson\n",
            "(-0.14) Scottish\n",
            "(-2.23) English\n",
            "(-4.59) Russian\n",
            "\n",
            "> Satoshi\n",
            "(-0.64) Japanese\n",
            "(-1.72) Arabic\n",
            "(-2.25) Polish\n"
          ]
        }
      ],
      "source": [
        "def predict(input_line, n_predictions=3):\n",
        "    print('\\n> %s' % input_line)\n",
        "    with torch.no_grad():\n",
        "        output = evaluate(lineToTensor(input_line))\n",
        "\n",
        "        # Get top N categories\n",
        "        topv, topi = output.topk(n_predictions, 1, True)\n",
        "        predictions = []\n",
        "\n",
        "        for i in range(n_predictions):\n",
        "            value = topv[0][i].item()\n",
        "            category_index = topi[0][i].item()\n",
        "            print('(%.2f) %s' % (value, all_categories[category_index]))\n",
        "            predictions.append([value, all_categories[category_index]])\n",
        "\n",
        "predict('Dovesky')\n",
        "predict('Jackson')\n",
        "predict('Satoshi')"
      ]
    },
    {
      "cell_type": "markdown",
      "metadata": {
        "id": "csjgrIteHi-O"
      },
      "source": [
        "The final versions of the scripts `in the Practical PyTorch\n",
        "repo <https://github.com/spro/practical-pytorch/tree/master/char-rnn-classification>`__\n",
        "split the above code into a few files:\n",
        "\n",
        "-  ``data.py`` (loads files)\n",
        "-  ``model.py`` (defines the RNN)\n",
        "-  ``train.py`` (runs training)\n",
        "-  ``predict.py`` (runs ``predict()`` with command line arguments)\n",
        "-  ``server.py`` (serve prediction as a JSON API with bottle.py)\n",
        "\n",
        "Run ``train.py`` to train and save the network.\n",
        "\n",
        "Run ``predict.py`` with a name to view predictions:\n",
        "\n",
        "::\n",
        "\n",
        "    $ python predict.py Hazaki\n",
        "    (-0.42) Japanese\n",
        "    (-1.39) Polish\n",
        "    (-3.51) Czech\n",
        "\n",
        "Run ``server.py`` and visit http://localhost:5533/Yourname to get JSON\n",
        "output of predictions.\n",
        "\n",
        "\n"
      ]
    },
    {
      "cell_type": "markdown",
      "metadata": {
        "id": "Rx1PRF-4Hi-O"
      },
      "source": [
        "Exercises\n",
        "=========\n",
        "1. How to the letters get converted to numbers? Tensors?\n",
        "2. Note how memory works in recurrent networks by analysing the RNN class.\n",
        "3. Increase the number of hidden units in the single_rnn network initialisation and note the performance differences.\n",
        "4. Try to increase the learning rate till you notice exploding gradients\n",
        "\n",
        "\n"
      ]
    }
  ],
  "metadata": {
    "kernelspec": {
      "display_name": "Python 3",
      "language": "python",
      "name": "python3"
    },
    "language_info": {
      "codemirror_mode": {
        "name": "ipython",
        "version": 3
      },
      "file_extension": ".py",
      "mimetype": "text/x-python",
      "name": "python",
      "nbconvert_exporter": "python",
      "pygments_lexer": "ipython3",
      "version": "3.6.13"
    },
    "colab": {
      "name": "char_rnn_classification_exercise.ipynb",
      "provenance": []
    }
  },
  "nbformat": 4,
  "nbformat_minor": 0
}